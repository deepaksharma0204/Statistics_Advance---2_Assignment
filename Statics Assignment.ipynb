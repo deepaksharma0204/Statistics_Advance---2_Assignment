{
 "cells": [
  {
   "cell_type": "code",
   "execution_count": 1,
   "id": "e3d5f01e-9744-4fb5-be95-4633e1df2a19",
   "metadata": {},
   "outputs": [],
   "source": [
    "#Q9>> Given a sample mean of 105, a population mean of 100, a standard deviation of 15, and a sample size of 25, calculate the z-score and p-value. \n",
    "#Based on a significance level of 0.05, do you reject or fail to reject the null hypothesis? \n",
    "#Task: Write Python code to calculate the z-score and p-value for the given data. \n",
    "#Objective: Apply the formula for the z-score and interpret the p-value for hypothesis testing.\n",
    "\n"
   ]
  },
  {
   "cell_type": "code",
   "execution_count": 2,
   "id": "ca8bb41d-fb9e-465c-8fed-9e56be34520c",
   "metadata": {},
   "outputs": [
    {
     "name": "stdout",
     "output_type": "stream",
     "text": [
      "Z-score: 1.6666666666666667\n",
      "P-value: 0.09558070454562939\n",
      "Fail to reject the null hypothesis\n"
     ]
    }
   ],
   "source": [
    "#Ans>> o calculate the z-score and p-value, we follow these steps:\n",
    "\n",
    "#Given data:\n",
    "#Sample mean (X) = 105\n",
    "#Population mean (μ) = 100\n",
    "#Population standard deviation (σ) = 15\n",
    "#Sample size (n) = 25\n",
    "#Significance level (α) = 0.05\n",
    "\n",
    "#The formula for the z-score is: \n",
    "#Z=X-μ/σ/n\n",
    "#Plugging in the values: Z=105-100/15/25 =1.67\n",
    "#Calculate the p-value\n",
    "#For a two-tailed test, the p-value is calculated as:\n",
    "#p-value=2*(1-P(Z<=|1.67|))\n",
    "#Using the z-score table or statistical software, the cumulative probability for \n",
    "#𝑍=1.67\n",
    "#Z=1.67 is approximately 0.9525. Thus:\n",
    "#pvalue=2*(1-0.9525)=0.095\n",
    "\n",
    " #Hypothesis Testing\n",
    "#Null hypothesis (H0): The sample mean is equal to the population mean (μ=100).\n",
    "#Alternative hypothesis (𝐻1): The sample mean is different from the population mean (𝜇≠100).\n",
    "#We compare the p-value to the significance level (α=0.05):\n",
    "\n",
    "#p-value = 0.095 > 0.05: Since the p-value is greater than the significance level, we fail to reject the null hypothesis.\n",
    "\n",
    "import scipy.stats as stats\n",
    "\n",
    "# Given data\n",
    "sample_mean = 105        # Sample mean\n",
    "population_mean = 100     # Population mean\n",
    "std_dev = 15              # Population standard deviation\n",
    "sample_size = 25          # Sample size\n",
    "\n",
    "# Step 1: Calculate the z-score\n",
    "z_score = (sample_mean - population_mean) / (std_dev / (sample_size ** 0.5))\n",
    "\n",
    "# Step 2: Calculate the p-value (two-tailed test)\n",
    "p_value = 2 * (1 - stats.norm.cdf(abs(z_score)))\n",
    "\n",
    "# Output the results\n",
    "print(f\"Z-score: {z_score}\")\n",
    "print(f\"P-value: {p_value}\")\n",
    "\n",
    "# Decision based on significance level of 0.05\n",
    "alpha = 0.05\n",
    "if p_value < alpha:\n",
    "    print(\"Reject the null hypothesis\")\n",
    "else:\n",
    "    print(\"Fail to reject the null hypothesis\")\n",
    "\n"
   ]
  },
  {
   "cell_type": "code",
   "execution_count": 3,
   "id": "19bb07be-c719-4d5a-a716-c56c8df9aa4b",
   "metadata": {},
   "outputs": [],
   "source": [
    "#Q10>> Simulate a binomial distribution with 10 trials and a probability of success of 0.6 using Python. \n",
    "#Generate 1,000 samples and plot the distribution. What is the expected mean and variance?\n",
    "\n",
    "#Task: Use Python to generate the data, plot the distribution, and calculate the mean and variance.\n",
    "\n",
    "#Objective: Understand the properties of a binomial distribution and verify them through simulation."
   ]
  },
  {
   "cell_type": "code",
   "execution_count": 4,
   "id": "f1a21903-861e-4827-be73-828e94c1bc4f",
   "metadata": {},
   "outputs": [
    {
     "data": {
      "image/png": "[encoded data removed]",
      "text/plain": [
       "<Figure size 640x480 with 1 Axes>"
      ]
     },
     "metadata": {},
     "output_type": "display_data"
    },
    {
     "name": "stdout",
     "output_type": "stream",
     "text": [
      "Simulated Mean: 5.937\n",
      "Simulated Variance: 2.301031\n",
      "Expected Mean: 6.0\n",
      "Expected Variance: 2.4000000000000004\n"
     ]
    }
   ],
   "source": [
    "#Ans>>\n",
    "\n",
    "import numpy as np\n",
    "import matplotlib.pyplot as plt\n",
    "\n",
    "# Parameters for the binomial distribution\n",
    "n_trials = 10         # Number of trials\n",
    "p_success = 0.6       # Probability of success\n",
    "n_samples = 1000      # Number of samples\n",
    "\n",
    "# Simulate binomial distribution\n",
    "binom_samples = np.random.binomial(n=n_trials, p=p_success, size=n_samples)\n",
    "\n",
    "# Plot the distribution\n",
    "plt.hist(binom_samples, bins=range(0, n_trials+2), edgecolor='black', alpha=0.75)\n",
    "plt.title('Binomial Distribution (n=10, p=0.6)')\n",
    "plt.xlabel('Number of successes')\n",
    "plt.ylabel('Frequency')\n",
    "plt.show()\n",
    "\n",
    "# Calculate the simulated mean and variance\n",
    "mean_simulated = np.mean(binom_samples)\n",
    "variance_simulated = np.var(binom_samples)\n",
    "\n",
    "# Expected mean and variance for a binomial distribution\n",
    "expected_mean = n_trials * p_success\n",
    "expected_variance = n_trials * p_success * (1 - p_success)\n",
    "\n",
    "# Output results\n",
    "print(f\"Simulated Mean: {mean_simulated}\")\n",
    "print(f\"Simulated Variance: {variance_simulated}\")\n",
    "print(f\"Expected Mean: {expected_mean}\")\n",
    "print(f\"Expected Variance: {expected_variance}\")\n"
   ]
  },
  {
   "cell_type": "code",
   "execution_count": null,
   "id": "d5f700b8-6396-4bcb-9a7a-ecf177178791",
   "metadata": {},
   "outputs": [],
   "source": []
  }
 ],
 "metadata": {
  "kernelspec": {
   "display_name": "Python 3 (ipykernel)",
   "language": "python",
   "name": "python3"
  },
  "language_info": {
   "codemirror_mode": {
    "name": "ipython",
    "version": 3
   },
   "file_extension": ".py",
   "mimetype": "text/x-python",
   "name": "python",
   "nbconvert_exporter": "python",
   "pygments_lexer": "ipython3",
   "version": "3.12.4"
  }
 },
 "nbformat": 4,
 "nbformat_minor": 5
}
